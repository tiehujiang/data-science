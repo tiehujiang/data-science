{
 "cells": [
  {
   "cell_type": "markdown",
   "metadata": {},
   "source": [
    "## Applied Data Science Capstone Peer-graded Assignment week #3\n",
    "### Segmenting and Clustering Neighborhoods in Toronto\n",
    "#### Part One\n",
    "Transform the data in the table on the Wikipedia page into the a pandas dataframe."
   ]
  },
  {
   "cell_type": "code",
   "execution_count": 1,
   "metadata": {},
   "outputs": [
    {
     "name": "stdout",
     "output_type": "stream",
     "text": [
      "Collecting lxml\n",
      "\u001b[?25l  Downloading https://files.pythonhosted.org/packages/ec/be/5ab8abdd8663c0386ec2dd595a5bc0e23330a0549b8a91e32f38c20845b6/lxml-4.4.1-cp36-cp36m-manylinux1_x86_64.whl (5.8MB)\n",
      "\u001b[K     |████████████████████████████████| 5.8MB 20.8MB/s eta 0:00:01\n",
      "\u001b[?25hInstalling collected packages: lxml\n",
      "Successfully installed lxml-4.4.1\n",
      "Note: you may need to restart the kernel to use updated packages.\n"
     ]
    }
   ],
   "source": [
    "#Install lxml to process HTML with Python\n",
    "pip install lxml"
   ]
  },
  {
   "cell_type": "code",
   "execution_count": 1,
   "metadata": {},
   "outputs": [],
   "source": [
    "import requests\n",
    "import pandas as pd\n",
    "import numpy as np\n",
    "import lxml.html as lh"
   ]
  },
  {
   "cell_type": "code",
   "execution_count": 4,
   "metadata": {},
   "outputs": [],
   "source": [
    "#Wiki data page url\n",
    "url = \"https://en.wikipedia.org/wiki/List_of_postal_codes_of_Canada:_M\"\n",
    "\n",
    "#Create a handle, page, to handle the contents of the wikipage\n",
    "wikipage = requests.get(url)\n",
    "\n",
    "#Store the contents of the website under doc\n",
    "doc = lh.fromstring(wikipage.content)"
   ]
  },
  {
   "cell_type": "code",
   "execution_count": 7,
   "metadata": {},
   "outputs": [
    {
     "name": "stdout",
     "output_type": "stream",
     "text": [
      "    Postcode           Borough          Neighbourhood\n",
      "0        M1A      Not assigned           Not assigned\n",
      "1        M2A      Not assigned           Not assigned\n",
      "2        M3A        North York              Parkwoods\n",
      "3        M4A        North York       Victoria Village\n",
      "4        M5A  Downtown Toronto           Harbourfront\n",
      "..       ...               ...                    ...\n",
      "283      M8Z         Etobicoke              Mimico NW\n",
      "284      M8Z         Etobicoke     The Queensway West\n",
      "285      M8Z         Etobicoke  Royal York South West\n",
      "286      M8Z         Etobicoke         South of Bloor\n",
      "287      M9Z      Not assigned           Not assigned\n",
      "\n",
      "[288 rows x 3 columns]\n"
     ]
    },
    {
     "data": {
      "text/plain": [
       "(288, 3)"
      ]
     },
     "execution_count": 7,
     "metadata": {},
     "output_type": "execute_result"
    }
   ],
   "source": [
    " #Parse data that are stored between <tr>..</tr> of HTML\n",
    "tr_elements = doc.xpath('//tr')\n",
    "\n",
    "#First row is the header, last 5 tr elements are from other tables, \n",
    "#Data is stored on the second row onwards to 288\n",
    "\n",
    "#Create column list\n",
    "col = [('Postcode', []), ('Borough', []), ('Neighbourhood', [])]\n",
    "for j in range(1, len(tr_elements)):\n",
    "    rows = tr_elements[j]\n",
    "\n",
    "    #If row is not of size 3, the //tr data is not from our table \n",
    "    if len(rows) != 3:\n",
    "        break\n",
    "    \n",
    "    #i is the index of the column\n",
    "    i = 0\n",
    "    \n",
    "    #Iterate through each element of the row\n",
    "    for r in rows.iterchildren():\n",
    "        data = r.text_content().replace('\\n', '') \n",
    "        col[i][1].append(data)\n",
    "        i += 1   \n",
    "\n",
    "#Creat pandas dataframe\n",
    "df = {title:column for (title, column) in col}\n",
    "df = pd.DataFrame(df)\n",
    "\n",
    "print(df)\n",
    "df.shape"
   ]
  },
  {
   "cell_type": "code",
   "execution_count": 8,
   "metadata": {},
   "outputs": [
    {
     "name": "stdout",
     "output_type": "stream",
     "text": [
      "    Postcode           Borough             Neighbourhood\n",
      "0        M3A        North York                 Parkwoods\n",
      "1        M4A        North York          Victoria Village\n",
      "2        M5A  Downtown Toronto              Harbourfront\n",
      "3        M5A  Downtown Toronto               Regent Park\n",
      "4        M6A        North York          Lawrence Heights\n",
      "..       ...               ...                       ...\n",
      "206      M8Z         Etobicoke  Kingsway Park South West\n",
      "207      M8Z         Etobicoke                 Mimico NW\n",
      "208      M8Z         Etobicoke        The Queensway West\n",
      "209      M8Z         Etobicoke     Royal York South West\n",
      "210      M8Z         Etobicoke            South of Bloor\n",
      "\n",
      "[211 rows x 3 columns]\n"
     ]
    }
   ],
   "source": [
    "#Drop not assigned Borough\n",
    "df = df[df.Borough != 'Not assigned']\n",
    "df = df.reset_index(drop=True)\n",
    "print(df)"
   ]
  },
  {
   "cell_type": "code",
   "execution_count": 9,
   "metadata": {},
   "outputs": [
    {
     "name": "stdout",
     "output_type": "stream",
     "text": [
      "    Postcode           Borough             Neighbourhood\n",
      "0        M3A        North York                 Parkwoods\n",
      "1        M4A        North York          Victoria Village\n",
      "2        M5A  Downtown Toronto              Harbourfront\n",
      "3        M5A  Downtown Toronto               Regent Park\n",
      "4        M6A        North York          Lawrence Heights\n",
      "..       ...               ...                       ...\n",
      "206      M8Z         Etobicoke  Kingsway Park South West\n",
      "207      M8Z         Etobicoke                 Mimico NW\n",
      "208      M8Z         Etobicoke        The Queensway West\n",
      "209      M8Z         Etobicoke     Royal York South West\n",
      "210      M8Z         Etobicoke            South of Bloor\n",
      "\n",
      "[211 rows x 3 columns]\n"
     ]
    }
   ],
   "source": [
    "#Set not assigned Neighbourhood with Borough\n",
    "df.loc[df.Neighbourhood == 'Not assigned', 'Neighbourhood'] = df.Borough\n",
    "print(df)"
   ]
  },
  {
   "cell_type": "code",
   "execution_count": 10,
   "metadata": {},
   "outputs": [
    {
     "name": "stdout",
     "output_type": "stream",
     "text": [
      "    Postcode      Borough                                      Neighbourhood\n",
      "0        M1B  Scarborough                                     Rouge, Malvern\n",
      "1        M1C  Scarborough             Highland Creek, Rouge Hill, Port Union\n",
      "2        M1E  Scarborough                  Guildwood, Morningside, West Hill\n",
      "3        M1G  Scarborough                                             Woburn\n",
      "4        M1H  Scarborough                                          Cedarbrae\n",
      "..       ...          ...                                                ...\n",
      "98       M9N         York                                             Weston\n",
      "99       M9P    Etobicoke                                          Westmount\n",
      "100      M9R    Etobicoke  Kingsview Village, Martin Grove Gardens, Richv...\n",
      "101      M9V    Etobicoke  Albion Gardens, Beaumond Heights, Humbergate, ...\n",
      "102      M9W    Etobicoke                                          Northwest\n",
      "\n",
      "[103 rows x 3 columns]\n"
     ]
    }
   ],
   "source": [
    "#For same Postcode, combine Neighbourhood into one row with the neighborhoods separated with a comma\n",
    "neighbor_df = df.groupby(['Postcode', 'Borough']).Neighbourhood.agg([('Neighbourhood', ', '.join)])\n",
    "neighbor_df = neighbor_df.reset_index()\n",
    "print(neighbor_df)"
   ]
  },
  {
   "cell_type": "code",
   "execution_count": null,
   "metadata": {},
   "outputs": [],
   "source": []
  }
 ],
 "metadata": {
  "kernelspec": {
   "display_name": "Python",
   "language": "python",
   "name": "conda-env-python-py"
  },
  "language_info": {
   "codemirror_mode": {
    "name": "ipython",
    "version": 3
   },
   "file_extension": ".py",
   "mimetype": "text/x-python",
   "name": "python",
   "nbconvert_exporter": "python",
   "pygments_lexer": "ipython3",
   "version": "3.6.7"
  }
 },
 "nbformat": 4,
 "nbformat_minor": 4
}
