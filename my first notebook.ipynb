{
    "nbformat_minor": 1, 
    "cells": [
        {
            "source": "# My Jupyter Notebook on IBM Watson Studio", 
            "cell_type": "markdown", 
            "metadata": {
                "collapsed": true
            }
        }, 
        {
            "source": "**Tiehu Jiang**  \nSenior Application Developer", 
            "cell_type": "markdown", 
            "metadata": {}
        }, 
        {
            "source": "_I am interested in data science because it is our means of taming unstructured information and gathering insight. There is more data available than ever before, data science tools can help us obtain, process and build models out of big data to make predictions and decisions. I would like to work as a data scientist._", 
            "cell_type": "markdown", 
            "metadata": {}
        }, 
        {
            "source": "### The code cell below using Python for-loop to generate seven even numbers.", 
            "cell_type": "markdown", 
            "metadata": {}
        }, 
        {
            "execution_count": 4, 
            "cell_type": "code", 
            "metadata": {
                "scrolled": true
            }, 
            "outputs": [
                {
                    "output_type": "stream", 
                    "name": "stdout", 
                    "text": "0\n2\n4\n6\n8\n10\n12\n"
                }
            ], 
            "source": "for x in range (0, 7) :\n    x *= 2\n    print(x)"
        }, 
        {
            "source": "---  \n1. What is data science  \n2. Open source tools for data science\n\n\n* Curious\n* Argumentative\n* Judgmental\n\nCourse Number | Course Name\n--- |:---\n1 | What is data science   \n2 | Open source tools for data science\n\n>Data Science is a process, not an event.   \n>It is the process of using data to understand different things, to understand the world.\n\n```\nThere's never been a better time to be a data scientist.\n```\n```python\nx = \"Hello, World!\"\nprint(x)\n```\n\n~~Delete this.~~\n\n[sparkFSU](https://spark.fsu.edu)\n\nHere is the Image:\n![alt text](https://spark.fsu.edu/Images/Talking.jpg \"What is sparkFSU?\")", 
            "cell_type": "markdown", 
            "metadata": {}
        }, 
        {
            "execution_count": null, 
            "cell_type": "code", 
            "metadata": {}, 
            "outputs": [], 
            "source": ""
        }
    ], 
    "metadata": {
        "kernelspec": {
            "display_name": "Python 3.6", 
            "name": "python3", 
            "language": "python"
        }, 
        "language_info": {
            "mimetype": "text/x-python", 
            "nbconvert_exporter": "python", 
            "version": "3.6.8", 
            "name": "python", 
            "file_extension": ".py", 
            "pygments_lexer": "ipython3", 
            "codemirror_mode": {
                "version": 3, 
                "name": "ipython"
            }
        }
    }, 
    "nbformat": 4
}